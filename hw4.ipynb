{
 "cells": [
  {
   "cell_type": "code",
   "execution_count": 15,
   "id": "5b5bf183",
   "metadata": {},
   "outputs": [],
   "source": [
    "import numpy as np\n",
    "import pandas as pd"
   ]
  },
  {
   "cell_type": "code",
   "execution_count": 16,
   "id": "1cde7e82",
   "metadata": {},
   "outputs": [],
   "source": [
    "hairstyles = [\"bouffant\", \"pixie\", \"dreadlocks\", \"crew\", \"bowl\", \"bob\", \"mohawk\", \"flattop\"]\n",
    "prices = [30, 25, 40, 20, 20, 35, 50, 35]\n",
    "last_week = [2, 3, 5, 8, 4, 4, 6, 2]"
   ]
  },
  {
   "cell_type": "code",
   "execution_count": 17,
   "id": "5edc7062",
   "metadata": {},
   "outputs": [],
   "source": [
    "#Create a variable ```total_price```, and set it to ```0```.\n",
    "\n",
    "# Loop through the ```prices``` list and add each price to the variable ```total_price```.\n",
    "#같은 셀 내부 실행\n",
    "\n",
    "total_price = 0\n",
    "\n",
    "for price in prices:\n",
    "    total_price+=price\n"
   ]
  },
  {
   "cell_type": "code",
   "execution_count": 18,
   "id": "14ec558f",
   "metadata": {},
   "outputs": [
    {
     "name": "stdout",
     "output_type": "stream",
     "text": [
      "Average price is  31.875\n"
     ]
    }
   ],
   "source": [
    "#After your loop, create a variable called ```average_price``` that is the ```total_price``` divided by the number of prices.\n",
    "#You can get the number of prices by using the ```len()``` function\n",
    "##Print the value of ```average_price```.\n",
    "\n",
    "\n",
    "\n",
    "average_price = total_price/len(prices)\n",
    "print(\"Average price is \", average_price)"
   ]
  },
  {
   "cell_type": "code",
   "execution_count": 19,
   "id": "7ada2691",
   "metadata": {},
   "outputs": [
    {
     "name": "stdout",
     "output_type": "stream",
     "text": [
      "[25. 20. 35. 15. 15. 30. 45. 30.]\n"
     ]
    }
   ],
   "source": [
    "\"\"\"5. That average price is more expensive than Carly thought it would be! She wants to cut all prices by 5 dollars.\n",
    "Use a list comprehension to make a list called ```new_prices```, which has each element in ```prices``` minus ```5```\n",
    "\n",
    "\n",
    "6. Print ```new_prices```.\n",
    "\"\"\"\n",
    "new_prices = np.zeros(len(prices))\n",
    "\n",
    "for i in range(len(prices)):\n",
    "    new_prices[i] = prices[i] - 5\n",
    "    \n",
    "print(new_prices)"
   ]
  },
  {
   "cell_type": "code",
   "execution_count": null,
   "id": "5ae41201",
   "metadata": {},
   "outputs": [],
   "source": []
  },
  {
   "cell_type": "code",
   "execution_count": 20,
   "id": "19d53fc5",
   "metadata": {},
   "outputs": [
    {
     "name": "stdout",
     "output_type": "stream",
     "text": [
      "1085\n"
     ]
    }
   ],
   "source": [
    "\"\"\"7. Carly really wants to make sure that Carly’s Clippers is a profitable endeavor. She first wants to know how much revenue was brought in last week.\n",
    "Create a variable called ```total_revenue``` and set it to ```0```.\n",
    "\n",
    "\n",
    "8. Use a ```for``` loop to create a variable ```i``` that goes from ```0``` to ```len(hairstyles)```\n",
    "Hint: You can use ```range()``` to do this!\n",
    "\n",
    "9. Add the product of ```prices[i]``` (the price of the haircut at position ```i```) and \n",
    "```last_week[i]``` (the number of people who got the haircut at position ```i```) to ```total_revenue``` at each step.\n",
    "\n",
    "10. After your loop, print the value of ```total_revenue```.\n",
    "\n",
    "11. Find the average daily revenue by dividing ```total_revenue``` by 7. Call this number ```average_daily_revenue``` and print it out.\n",
    "\n",
    "\"\"\"\n",
    "\n",
    "total_revenue = 0\n",
    "\n",
    "for i in range(len(hairstyles)):\n",
    "\n",
    "    total_revenue += prices[i]*last_week[i]\n",
    "    \n",
    "print(total_revenue)"
   ]
  },
  {
   "cell_type": "code",
   "execution_count": 21,
   "id": "1d76eddc",
   "metadata": {},
   "outputs": [
    {
     "name": "stdout",
     "output_type": "stream",
     "text": [
      "Average daily revenue is  155.0\n"
     ]
    }
   ],
   "source": [
    "\n",
    "average_daily_revenue = total_revenue/7\n",
    "print(\"Average daily revenue is \", average_daily_revenue)"
   ]
  },
  {
   "cell_type": "code",
   "execution_count": 88,
   "id": "dcb83d6b",
   "metadata": {},
   "outputs": [
    {
     "name": "stdout",
     "output_type": "stream",
     "text": [
      "['bouffant' 'pixie' 'crew' 'bowl']\n"
     ]
    }
   ],
   "source": [
    "\n",
    "\"\"\"\n",
    "12. Carly thinks she can bring in more customers by advertising all of the haircuts she has that are under ```30``` dollars.\n",
    "Use a list comprehension to create a list called ```cuts_under_30``` \n",
    "that has the entry ```hairstyles[i]``` for each ```i``` for which ```new_prices[i]``` is less than ```30```.\n",
    "You can use ```range()``` in your list comprehension to make ```i``` go from ```0``` to ```len(new_prices) - 1```.\n",
    "\n",
    "\"\"\"\n",
    "cuts_under_30 = np.array([hairstyles[i] for i in range(len(hairstyles)) if prices[i]<=30 ])\n",
    "print(cuts_under_30)"
   ]
  },
  {
   "cell_type": "code",
   "execution_count": null,
   "id": "31f32a32",
   "metadata": {},
   "outputs": [],
   "source": []
  },
  {
   "cell_type": "code",
   "execution_count": null,
   "id": "9ce9edc6",
   "metadata": {},
   "outputs": [],
   "source": []
  },
  {
   "cell_type": "code",
   "execution_count": null,
   "id": "6d76b7a0",
   "metadata": {},
   "outputs": [],
   "source": [
    "#추가 판다스 레이블 인덱스(리스트 대신 데이터 프레임으로 인덱스 일치)"
   ]
  },
  {
   "cell_type": "code",
   "execution_count": 78,
   "id": "02eb5011",
   "metadata": {},
   "outputs": [
    {
     "name": "stdout",
     "output_type": "stream",
     "text": [
      "[25. 20. 35. 15. 15. 30. 45. 30.]\n"
     ]
    }
   ],
   "source": [
    "new_prices = np.zeros(len(prices))\n",
    "\n",
    "for i in range(len(prices)):\n",
    "    new_prices[i] = prices[i] - 5\n",
    "    \n",
    "print(new_prices)"
   ]
  },
  {
   "cell_type": "code",
   "execution_count": 79,
   "id": "867ef308",
   "metadata": {},
   "outputs": [
    {
     "name": "stdout",
     "output_type": "stream",
     "text": [
      "[[['bouffant' 'pixie' 'dreadlocks' 'crew' 'bowl' 'bob' 'mohawk'\n",
      "   'flattop']]\n",
      "\n",
      " [['25.0' '20.0' '35.0' '15.0' '15.0' '30.0' '45.0' '30.0']]\n",
      "\n",
      " [['2' '3' '5' '8' '4' '4' '6' '2']]]\n"
     ]
    }
   ],
   "source": [
    "Np_hair= np.array([[hairstyles ],[new_prices],[last_week]])\n",
    "print(Np_hair)\n"
   ]
  },
  {
   "cell_type": "code",
   "execution_count": 60,
   "id": "50366d56",
   "metadata": {},
   "outputs": [
    {
     "name": "stdout",
     "output_type": "stream",
     "text": [
      "[[['bouffant' '30' '2']]\n",
      "\n",
      " [['pixie' '25' '3']]\n",
      "\n",
      " [['dreadlocks' '40' '5']]\n",
      "\n",
      " [['crew' '20' '8']]\n",
      "\n",
      " [['bowl' '20' '4']]\n",
      "\n",
      " [['bob' '35' '4']]\n",
      "\n",
      " [['mohawk' '50' '6']]\n",
      "\n",
      " [['flattop' '35' '2']]]\n"
     ]
    }
   ],
   "source": [
    "pan_hair = Np_hair.T\n",
    "print(np_hair)"
   ]
  },
  {
   "cell_type": "code",
   "execution_count": 55,
   "id": "a9f702e0",
   "metadata": {},
   "outputs": [
    {
     "data": {
      "text/plain": [
       "1"
      ]
     },
     "execution_count": 55,
     "metadata": {},
     "output_type": "execute_result"
    }
   ],
   "source": [
    "\"\"\"\n",
    "np_hair = [[], [], [],[],[],[],[],[]] \n",
    "for i in range(len(Np_hair)): \n",
    "    for j in range(len(Np_hair[i])): \n",
    "        np_hair[i].append(Np_hair[j][i])\n",
    "\"\"\"\n",
    "1        "
   ]
  },
  {
   "cell_type": "code",
   "execution_count": null,
   "id": "b01d81a7",
   "metadata": {},
   "outputs": [],
   "source": []
  },
  {
   "cell_type": "code",
   "execution_count": 72,
   "id": "131f4e01",
   "metadata": {},
   "outputs": [
    {
     "name": "stdout",
     "output_type": "stream",
     "text": [
      "[['bouffant' '30' '2']\n",
      " ['pixie' '25' '3']\n",
      " ['dreadlocks' '40' '5']\n",
      " ['crew' '20' '8']\n",
      " ['bowl' '20' '4']\n",
      " ['bob' '35' '4']\n",
      " ['mohawk' '50' '6']\n",
      " ['flattop' '35' '2']]\n"
     ]
    }
   ],
   "source": [
    "pan_hair = pan_hair.reshape(8,3)\n",
    "print(pan_hair)"
   ]
  },
  {
   "cell_type": "code",
   "execution_count": 80,
   "id": "1b267461",
   "metadata": {},
   "outputs": [
    {
     "name": "stdout",
     "output_type": "stream",
     "text": [
      "  hairstyles  new_prices last_week\n",
      "1    bouffant         30         2\n",
      "2       pixie         25         3\n",
      "3  dreadlocks         40         5\n",
      "4        crew         20         8\n",
      "5        bowl         20         4\n",
      "6         bob         35         4\n",
      "7      mohawk         50         6\n",
      "8     flattop         35         2\n"
     ]
    }
   ],
   "source": [
    "#2차원 Numpy배열로 DataFrame생성\n",
    "\n",
    "df_hair = pd.DataFrame(pan_hair, index =[1,2,3,4,5,6,7,8], columns=['hairstyles ','new_prices','last_week'])\n",
    "print(df_hair)"
   ]
  },
  {
   "cell_type": "code",
   "execution_count": 86,
   "id": "6e1daee7",
   "metadata": {},
   "outputs": [
    {
     "name": "stdout",
     "output_type": "stream",
     "text": [
      "1    30\n",
      "2    25\n",
      "3    40\n",
      "4    20\n",
      "5    20\n",
      "6    35\n",
      "7    50\n",
      "8    35\n",
      "Name: new_prices, dtype: object\n",
      "1    30\n",
      "2    25\n",
      "3    40\n",
      "4    20\n",
      "5    20\n",
      "6    35\n",
      "7    50\n",
      "8    35\n",
      "Name: new_prices, dtype: int32\n"
     ]
    }
   ],
   "source": [
    "print(df_hair.new_prices)\n",
    "ser = pd.Series(df_hair.new_prices).astype(int)\n",
    "print(ser)\n",
    "#이하 동일"
   ]
  },
  {
   "cell_type": "code",
   "execution_count": null,
   "id": "f3a1dfcb",
   "metadata": {},
   "outputs": [],
   "source": []
  },
  {
   "cell_type": "code",
   "execution_count": null,
   "id": "73309aae",
   "metadata": {},
   "outputs": [],
   "source": []
  },
  {
   "cell_type": "code",
   "execution_count": null,
   "id": "e5950f34",
   "metadata": {},
   "outputs": [],
   "source": []
  },
  {
   "cell_type": "code",
   "execution_count": null,
   "id": "8795617a",
   "metadata": {},
   "outputs": [],
   "source": []
  }
 ],
 "metadata": {
  "kernelspec": {
   "display_name": "Python 3 (ipykernel)",
   "language": "python",
   "name": "python3"
  },
  "language_info": {
   "codemirror_mode": {
    "name": "ipython",
    "version": 3
   },
   "file_extension": ".py",
   "mimetype": "text/x-python",
   "name": "python",
   "nbconvert_exporter": "python",
   "pygments_lexer": "ipython3",
   "version": "3.9.12"
  }
 },
 "nbformat": 4,
 "nbformat_minor": 5
}
