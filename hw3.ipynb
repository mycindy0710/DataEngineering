{
 "cells": [
  {
   "cell_type": "code",
   "execution_count": 12,
   "id": "009cc94e",
   "metadata": {},
   "outputs": [],
   "source": [
    "import numpy as np"
   ]
  },
  {
   "cell_type": "code",
   "execution_count": 13,
   "id": "396df129",
   "metadata": {},
   "outputs": [],
   "source": [
    "# 1. 태어난 달()에 해당되는 이름의 첫번째 글자를 구하기 위한 리스트를 생성하시오.\n",
    "mon_name = ['쌍', '쇠', '복', '돌', '팽', '육', '쌍', '개', '칠', '갑', '삼', '방']\n",
    "\n",
    "# 2. 태어난 날짜()에 해당되는 이름의 두번째 글자를 구하기 위한 리스트를 생성하시오.\n",
    "day_name = ['봉', '구', '욕', '포', '똥', '삼', '식', '석', '놈', '님', '년', '돌', '단', '득', '방', '질',\n",
    "            '장', '걸', '래', '룡', '동', '순', '자', '박', '창', '언', '것', '포', '만', '단', '국']"
   ]
  },
  {
   "cell_type": "code",
   "execution_count": 14,
   "id": "f2b2993f",
   "metadata": {},
   "outputs": [],
   "source": [
    "# 3. 나의 조선시대 이름을 문자열로 반환하는 함수 을 작성하시오.\n",
    "def get_my_chosun_name(family_name, month, day):\n",
    "   \n",
    "    return family_name + mon_name[month-1] + day_name[day-1]\n"
   ]
  },
  {
   "cell_type": "code",
   "execution_count": 15,
   "id": "700264a5",
   "metadata": {},
   "outputs": [
    {
     "name": "stdout",
     "output_type": "stream",
     "text": [
      "오쌍님\n",
      "오쌍님\n"
     ]
    }
   ],
   "source": [
    "past_name = get_my_chosun_name('오', 7, 10)\n",
    "\n",
    "# 4. 완성된 함수를 호출하여 나의 조선시대 이름을 출력하시오.\n",
    "print(past_name)"
   ]
  },
  {
   "cell_type": "code",
   "execution_count": null,
   "id": "1356da8c",
   "metadata": {},
   "outputs": [],
   "source": []
  },
  {
   "cell_type": "code",
   "execution_count": null,
   "id": "cf311763",
   "metadata": {},
   "outputs": [],
   "source": []
  },
  {
   "cell_type": "code",
   "execution_count": null,
   "id": "dc02c283",
   "metadata": {},
   "outputs": [],
   "source": []
  }
 ],
 "metadata": {
  "kernelspec": {
   "display_name": "Python 3 (ipykernel)",
   "language": "python",
   "name": "python3"
  },
  "language_info": {
   "codemirror_mode": {
    "name": "ipython",
    "version": 3
   },
   "file_extension": ".py",
   "mimetype": "text/x-python",
   "name": "python",
   "nbconvert_exporter": "python",
   "pygments_lexer": "ipython3",
   "version": "3.9.12"
  }
 },
 "nbformat": 4,
 "nbformat_minor": 5
}
