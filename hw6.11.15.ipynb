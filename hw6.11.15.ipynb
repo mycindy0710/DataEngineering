{
 "cells": [
  {
   "cell_type": "code",
   "execution_count": 1,
   "metadata": {},
   "outputs": [
    {
     "data": {
      "text/plain": [
       "'\\n[과제공지!]\\n\\n\\n세 번째 과제는 오늘 실습할 때 사용한 Air Quality 데이터셋에서 변수 PT08.S3(NOX) 에 대해서\\nIQR 기반 그리고 \\nZ-score 기반 이상치 탐지하는 코드를 작성해서 깃허브 계정에 업로드해주세요.\\n\\n'"
      ]
     },
     "execution_count": 1,
     "metadata": {},
     "output_type": "execute_result"
    }
   ],
   "source": [
    "\"\"\"\n",
    "[과제공지!]\n",
    "세 번째 과제는 오늘 실습할 때 사용한 Air Quality 데이터셋에서 변수 PT08.S3(NOX) 에 대해서\n",
    "IQR 기반 그리고 \n",
    "Z-score 기반 이상치 탐지하는 코드를 작성해서 깃허브 계정에 업로드해주세요.\n",
    "\n",
    "\"\"\"\n",
    "#결측치: 데이터에 값이 없는 것을 뜻\n"
   ]
  },
  {
   "cell_type": "code",
   "execution_count": 83,
   "metadata": {},
   "outputs": [
    {
     "name": "stderr",
     "output_type": "stream",
     "text": [
      "C:\\Users\\mycin\\AppData\\Local\\Temp\\ipykernel_10520\\1206020557.py:3: FutureWarning: The pandas.datetime class is deprecated and will be removed from pandas in a future version. Import from datetime module instead.\n",
      "  from pandas import datetime\n"
     ]
    },
    {
     "data": {
      "text/html": [
       "<div>\n",
       "<style scoped>\n",
       "    .dataframe tbody tr th:only-of-type {\n",
       "        vertical-align: middle;\n",
       "    }\n",
       "\n",
       "    .dataframe tbody tr th {\n",
       "        vertical-align: top;\n",
       "    }\n",
       "\n",
       "    .dataframe thead th {\n",
       "        text-align: right;\n",
       "    }\n",
       "</style>\n",
       "<table border=\"1\" class=\"dataframe\">\n",
       "  <thead>\n",
       "    <tr style=\"text-align: right;\">\n",
       "      <th></th>\n",
       "      <th>CO(GT)</th>\n",
       "      <th>PT08.S1(CO)</th>\n",
       "      <th>PT08.S2(NMHC)</th>\n",
       "      <th>NOx(GT)</th>\n",
       "      <th>PT08.S3(NOx)</th>\n",
       "      <th>NO2(GT)</th>\n",
       "      <th>PT08.S4(NO2)</th>\n",
       "      <th>PT08.S5(O3)</th>\n",
       "      <th>RH</th>\n",
       "      <th>AH</th>\n",
       "      <th>C6H6(GT)</th>\n",
       "    </tr>\n",
       "    <tr>\n",
       "      <th>Datetime</th>\n",
       "      <th></th>\n",
       "      <th></th>\n",
       "      <th></th>\n",
       "      <th></th>\n",
       "      <th></th>\n",
       "      <th></th>\n",
       "      <th></th>\n",
       "      <th></th>\n",
       "      <th></th>\n",
       "      <th></th>\n",
       "      <th></th>\n",
       "    </tr>\n",
       "  </thead>\n",
       "  <tbody>\n",
       "    <tr>\n",
       "      <th>2004-03-10 18:00:00</th>\n",
       "      <td>2.6</td>\n",
       "      <td>1360.0</td>\n",
       "      <td>1046.0</td>\n",
       "      <td>166.0</td>\n",
       "      <td>1056.0</td>\n",
       "      <td>113.0</td>\n",
       "      <td>1692.0</td>\n",
       "      <td>1268.0</td>\n",
       "      <td>48.9</td>\n",
       "      <td>0.7578</td>\n",
       "      <td>11.9</td>\n",
       "    </tr>\n",
       "    <tr>\n",
       "      <th>2004-03-10 19:00:00</th>\n",
       "      <td>2.0</td>\n",
       "      <td>1292.0</td>\n",
       "      <td>955.0</td>\n",
       "      <td>103.0</td>\n",
       "      <td>1174.0</td>\n",
       "      <td>92.0</td>\n",
       "      <td>1559.0</td>\n",
       "      <td>972.0</td>\n",
       "      <td>47.7</td>\n",
       "      <td>0.7255</td>\n",
       "      <td>9.4</td>\n",
       "    </tr>\n",
       "    <tr>\n",
       "      <th>2004-03-10 20:00:00</th>\n",
       "      <td>2.2</td>\n",
       "      <td>1402.0</td>\n",
       "      <td>939.0</td>\n",
       "      <td>131.0</td>\n",
       "      <td>1140.0</td>\n",
       "      <td>114.0</td>\n",
       "      <td>1555.0</td>\n",
       "      <td>1074.0</td>\n",
       "      <td>54.0</td>\n",
       "      <td>0.7502</td>\n",
       "      <td>9.0</td>\n",
       "    </tr>\n",
       "    <tr>\n",
       "      <th>2004-03-10 21:00:00</th>\n",
       "      <td>2.2</td>\n",
       "      <td>1376.0</td>\n",
       "      <td>948.0</td>\n",
       "      <td>172.0</td>\n",
       "      <td>1092.0</td>\n",
       "      <td>122.0</td>\n",
       "      <td>1584.0</td>\n",
       "      <td>1203.0</td>\n",
       "      <td>60.0</td>\n",
       "      <td>0.7867</td>\n",
       "      <td>9.2</td>\n",
       "    </tr>\n",
       "    <tr>\n",
       "      <th>2004-03-10 22:00:00</th>\n",
       "      <td>1.6</td>\n",
       "      <td>1272.0</td>\n",
       "      <td>836.0</td>\n",
       "      <td>131.0</td>\n",
       "      <td>1205.0</td>\n",
       "      <td>116.0</td>\n",
       "      <td>1490.0</td>\n",
       "      <td>1110.0</td>\n",
       "      <td>59.6</td>\n",
       "      <td>0.7888</td>\n",
       "      <td>6.5</td>\n",
       "    </tr>\n",
       "  </tbody>\n",
       "</table>\n",
       "</div>"
      ],
      "text/plain": [
       "                     CO(GT)  PT08.S1(CO)  PT08.S2(NMHC)  NOx(GT)  \\\n",
       "Datetime                                                           \n",
       "2004-03-10 18:00:00     2.6       1360.0         1046.0    166.0   \n",
       "2004-03-10 19:00:00     2.0       1292.0          955.0    103.0   \n",
       "2004-03-10 20:00:00     2.2       1402.0          939.0    131.0   \n",
       "2004-03-10 21:00:00     2.2       1376.0          948.0    172.0   \n",
       "2004-03-10 22:00:00     1.6       1272.0          836.0    131.0   \n",
       "\n",
       "                     PT08.S3(NOx)  NO2(GT)  PT08.S4(NO2)  PT08.S5(O3)    RH  \\\n",
       "Datetime                                                                      \n",
       "2004-03-10 18:00:00        1056.0    113.0        1692.0       1268.0  48.9   \n",
       "2004-03-10 19:00:00        1174.0     92.0        1559.0        972.0  47.7   \n",
       "2004-03-10 20:00:00        1140.0    114.0        1555.0       1074.0  54.0   \n",
       "2004-03-10 21:00:00        1092.0    122.0        1584.0       1203.0  60.0   \n",
       "2004-03-10 22:00:00        1205.0    116.0        1490.0       1110.0  59.6   \n",
       "\n",
       "                         AH  C6H6(GT)  \n",
       "Datetime                               \n",
       "2004-03-10 18:00:00  0.7578      11.9  \n",
       "2004-03-10 19:00:00  0.7255       9.4  \n",
       "2004-03-10 20:00:00  0.7502       9.0  \n",
       "2004-03-10 21:00:00  0.7867       9.2  \n",
       "2004-03-10 22:00:00  0.7888       6.5  "
      ]
     },
     "execution_count": 83,
     "metadata": {},
     "output_type": "execute_result"
    }
   ],
   "source": [
    "import pandas as pd\n",
    "import numpy as np\n",
    "from pandas import datetime\n",
    "from matplotlib import pyplot as plt\n",
    "\n",
    "\"\"\"\n",
    "Load AirQualityUCI Data\n",
    "\"\"\"\n",
    "\n",
    "def parser(x):\n",
    "    return datetime.strptime(x, '%Y-%m-%d %H:%M:%S')\n",
    "\n",
    "input_file = './data/AirQualityUCI_refined.csv'\n",
    "\n",
    "df = pd.read_csv(input_file,\n",
    "                 index_col=[0],\n",
    "                 parse_dates=[0],\n",
    "                 date_parser=parser)\n",
    "#name: 사용할 변수명 \n",
    "#index_col: 인덱스로 사용할 열\n",
    "#parse_dates:시계열 타입으로 변환할 변수\n",
    "#header: 컬럼명으로 사용할 행의 번호\n",
    "#skiprows: 해당 줄 제외\n",
    "#parse_dates: 시계열 구문 분석?\n",
    "df.head() #데이터 상단 부 출력"
   ]
  },
  {
   "cell_type": "code",
   "execution_count": 19,
   "metadata": {},
   "outputs": [],
   "source": [
    "# Visualization setup\n",
    "# %matplotlib\n",
    "# from matplotlib import pyplot as plt\n",
    "# import seaborn; seaborn.set()  # set plot styles\n",
    "# %config InlineBackend.figure_format = 'svg'\n",
    "# plt.rcParams['figure.figsize'] = [10, 5]\n",
    "# plt.ion() # enable the interactive mode"
   ]
  },
  {
   "cell_type": "code",
   "execution_count": 84,
   "metadata": {},
   "outputs": [
    {
     "data": {
      "text/plain": [
       "<AxesSubplot:xlabel='Datetime'>"
      ]
     },
     "execution_count": 84,
     "metadata": {},
     "output_type": "execute_result"
    },
    {
     "data": {
      "image/png": "[encoded data removed]",
      "text/plain": [
       "<Figure size 432x288 with 1 Axes>"
      ]
     },
     "metadata": {
      "needs_background": "light"
     },
     "output_type": "display_data"
    }
   ],
   "source": [
    "# Visualize the 'PT08.S1(CO)' variable\n",
    "df['PT08.S1(CO)'].plot()"
   ]
  },
  {
   "cell_type": "code",
   "execution_count": 85,
   "metadata": {},
   "outputs": [],
   "source": [
    "# Linear interpolation\n",
    "pt = df['PT08.S1(CO)'].copy()\n",
    "pt.interpolate(inplace=True)"
   ]
  },
  {
   "cell_type": "code",
   "execution_count": 86,
   "metadata": {},
   "outputs": [
    {
     "data": {
      "text/plain": [
       "<matplotlib.legend.Legend at 0x150d746cac0>"
      ]
     },
     "execution_count": 86,
     "metadata": {},
     "output_type": "execute_result"
    },
    {
     "data": {
      "image/png": "[encoded data removed]",
      "text/plain": [
       "<Figure size 432x288 with 1 Axes>"
      ]
     },
     "metadata": {
      "needs_background": "light"
     },
     "output_type": "display_data"
    }
   ],
   "source": [
    "# Visualize original and imputed data\n",
    "plt.plot(df['PT08.S1(CO)'], label='original', zorder=2)\n",
    "plt.plot(pt, label='linear interpolation', zorder=1)\n",
    "plt.legend(loc='best')"
   ]
  },
  {
   "cell_type": "code",
   "execution_count": 87,
   "metadata": {},
   "outputs": [
    {
     "data": {
      "text/plain": [
       "{'whiskers': [<matplotlib.lines.Line2D at 0x150d77ccee0>,\n",
       "  <matplotlib.lines.Line2D at 0x150d77dc1f0>],\n",
       " 'caps': [<matplotlib.lines.Line2D at 0x150d77dc4c0>,\n",
       "  <matplotlib.lines.Line2D at 0x150d77dc790>],\n",
       " 'boxes': [<matplotlib.lines.Line2D at 0x150d77ccc10>],\n",
       " 'medians': [<matplotlib.lines.Line2D at 0x150d77dca60>],\n",
       " 'fliers': [<matplotlib.lines.Line2D at 0x150d77dcd30>],\n",
       " 'means': []}"
      ]
     },
     "execution_count": 87,
     "metadata": {},
     "output_type": "execute_result"
    },
    {
     "data": {
      "image/png": "[encoded data removed]",
      "text/plain": [
       "<Figure size 432x288 with 1 Axes>"
      ]
     },
     "metadata": {
      "needs_background": "light"
     },
     "output_type": "display_data"
    }
   ],
   "source": [
    "# Detecting outliers using Boxplot\n",
    "plt.boxplot(pt)"
   ]
  },
  {
   "cell_type": "code",
   "execution_count": 88,
   "metadata": {},
   "outputs": [
    {
     "data": {
      "text/html": [
       "<div>\n",
       "<style scoped>\n",
       "    .dataframe tbody tr th:only-of-type {\n",
       "        vertical-align: middle;\n",
       "    }\n",
       "\n",
       "    .dataframe tbody tr th {\n",
       "        vertical-align: top;\n",
       "    }\n",
       "\n",
       "    .dataframe thead th {\n",
       "        text-align: right;\n",
       "    }\n",
       "</style>\n",
       "<table border=\"1\" class=\"dataframe\">\n",
       "  <thead>\n",
       "    <tr style=\"text-align: right;\">\n",
       "      <th></th>\n",
       "      <th>CO(GT)</th>\n",
       "      <th>PT08.S1(CO)</th>\n",
       "      <th>PT08.S2(NMHC)</th>\n",
       "      <th>NOx(GT)</th>\n",
       "      <th>PT08.S3(NOx)</th>\n",
       "      <th>NO2(GT)</th>\n",
       "      <th>PT08.S4(NO2)</th>\n",
       "      <th>PT08.S5(O3)</th>\n",
       "      <th>RH</th>\n",
       "      <th>AH</th>\n",
       "      <th>C6H6(GT)</th>\n",
       "    </tr>\n",
       "  </thead>\n",
       "  <tbody>\n",
       "    <tr>\n",
       "      <th>CO(GT)</th>\n",
       "      <td>1.000000</td>\n",
       "      <td>0.877203</td>\n",
       "      <td>0.914973</td>\n",
       "      <td>0.792557</td>\n",
       "      <td>-0.701703</td>\n",
       "      <td>0.679262</td>\n",
       "      <td>0.639470</td>\n",
       "      <td>0.851403</td>\n",
       "      <td>0.040218</td>\n",
       "      <td>0.065809</td>\n",
       "      <td>0.845144</td>\n",
       "    </tr>\n",
       "    <tr>\n",
       "      <th>PT08.S1(CO)</th>\n",
       "      <td>0.877203</td>\n",
       "      <td>1.000000</td>\n",
       "      <td>0.892964</td>\n",
       "      <td>0.713654</td>\n",
       "      <td>-0.771938</td>\n",
       "      <td>0.641529</td>\n",
       "      <td>0.682881</td>\n",
       "      <td>0.899324</td>\n",
       "      <td>0.114606</td>\n",
       "      <td>0.135324</td>\n",
       "      <td>0.883795</td>\n",
       "    </tr>\n",
       "    <tr>\n",
       "      <th>PT08.S2(NMHC)</th>\n",
       "      <td>0.914973</td>\n",
       "      <td>0.892964</td>\n",
       "      <td>1.000000</td>\n",
       "      <td>0.704435</td>\n",
       "      <td>-0.796703</td>\n",
       "      <td>0.646245</td>\n",
       "      <td>0.777254</td>\n",
       "      <td>0.880578</td>\n",
       "      <td>-0.090380</td>\n",
       "      <td>0.186933</td>\n",
       "      <td>0.981950</td>\n",
       "    </tr>\n",
       "    <tr>\n",
       "      <th>NOx(GT)</th>\n",
       "      <td>0.792557</td>\n",
       "      <td>0.713654</td>\n",
       "      <td>0.704435</td>\n",
       "      <td>1.000000</td>\n",
       "      <td>-0.655707</td>\n",
       "      <td>0.763111</td>\n",
       "      <td>0.233731</td>\n",
       "      <td>0.787046</td>\n",
       "      <td>0.221032</td>\n",
       "      <td>-0.149323</td>\n",
       "      <td>0.626638</td>\n",
       "    </tr>\n",
       "    <tr>\n",
       "      <th>PT08.S3(NOx)</th>\n",
       "      <td>-0.701703</td>\n",
       "      <td>-0.771938</td>\n",
       "      <td>-0.796703</td>\n",
       "      <td>-0.655707</td>\n",
       "      <td>1.000000</td>\n",
       "      <td>-0.652083</td>\n",
       "      <td>-0.538468</td>\n",
       "      <td>-0.796569</td>\n",
       "      <td>-0.056740</td>\n",
       "      <td>-0.232017</td>\n",
       "      <td>-0.735744</td>\n",
       "    </tr>\n",
       "    <tr>\n",
       "      <th>NO2(GT)</th>\n",
       "      <td>0.679262</td>\n",
       "      <td>0.641529</td>\n",
       "      <td>0.646245</td>\n",
       "      <td>0.763111</td>\n",
       "      <td>-0.652083</td>\n",
       "      <td>1.000000</td>\n",
       "      <td>0.157360</td>\n",
       "      <td>0.708128</td>\n",
       "      <td>-0.091759</td>\n",
       "      <td>-0.335022</td>\n",
       "      <td>0.544039</td>\n",
       "    </tr>\n",
       "    <tr>\n",
       "      <th>PT08.S4(NO2)</th>\n",
       "      <td>0.639470</td>\n",
       "      <td>0.682881</td>\n",
       "      <td>0.777254</td>\n",
       "      <td>0.233731</td>\n",
       "      <td>-0.538468</td>\n",
       "      <td>0.157360</td>\n",
       "      <td>1.000000</td>\n",
       "      <td>0.591144</td>\n",
       "      <td>-0.032188</td>\n",
       "      <td>0.629641</td>\n",
       "      <td>0.765731</td>\n",
       "    </tr>\n",
       "    <tr>\n",
       "      <th>PT08.S5(O3)</th>\n",
       "      <td>0.851403</td>\n",
       "      <td>0.899324</td>\n",
       "      <td>0.880578</td>\n",
       "      <td>0.787046</td>\n",
       "      <td>-0.796569</td>\n",
       "      <td>0.708128</td>\n",
       "      <td>0.591144</td>\n",
       "      <td>1.000000</td>\n",
       "      <td>0.124956</td>\n",
       "      <td>0.070751</td>\n",
       "      <td>0.865689</td>\n",
       "    </tr>\n",
       "    <tr>\n",
       "      <th>RH</th>\n",
       "      <td>0.040218</td>\n",
       "      <td>0.114606</td>\n",
       "      <td>-0.090380</td>\n",
       "      <td>0.221032</td>\n",
       "      <td>-0.056740</td>\n",
       "      <td>-0.091759</td>\n",
       "      <td>-0.032188</td>\n",
       "      <td>0.124956</td>\n",
       "      <td>1.000000</td>\n",
       "      <td>0.167971</td>\n",
       "      <td>-0.061681</td>\n",
       "    </tr>\n",
       "    <tr>\n",
       "      <th>AH</th>\n",
       "      <td>0.065809</td>\n",
       "      <td>0.135324</td>\n",
       "      <td>0.186933</td>\n",
       "      <td>-0.149323</td>\n",
       "      <td>-0.232017</td>\n",
       "      <td>-0.335022</td>\n",
       "      <td>0.629641</td>\n",
       "      <td>0.070751</td>\n",
       "      <td>0.167971</td>\n",
       "      <td>1.000000</td>\n",
       "      <td>0.167972</td>\n",
       "    </tr>\n",
       "    <tr>\n",
       "      <th>C6H6(GT)</th>\n",
       "      <td>0.845144</td>\n",
       "      <td>0.883795</td>\n",
       "      <td>0.981950</td>\n",
       "      <td>0.626638</td>\n",
       "      <td>-0.735744</td>\n",
       "      <td>0.544039</td>\n",
       "      <td>0.765731</td>\n",
       "      <td>0.865689</td>\n",
       "      <td>-0.061681</td>\n",
       "      <td>0.167972</td>\n",
       "      <td>1.000000</td>\n",
       "    </tr>\n",
       "  </tbody>\n",
       "</table>\n",
       "</div>"
      ],
      "text/plain": [
       "                 CO(GT)  PT08.S1(CO)  PT08.S2(NMHC)   NOx(GT)  PT08.S3(NOx)  \\\n",
       "CO(GT)         1.000000     0.877203       0.914973  0.792557     -0.701703   \n",
       "PT08.S1(CO)    0.877203     1.000000       0.892964  0.713654     -0.771938   \n",
       "PT08.S2(NMHC)  0.914973     0.892964       1.000000  0.704435     -0.796703   \n",
       "NOx(GT)        0.792557     0.713654       0.704435  1.000000     -0.655707   \n",
       "PT08.S3(NOx)  -0.701703    -0.771938      -0.796703 -0.655707      1.000000   \n",
       "NO2(GT)        0.679262     0.641529       0.646245  0.763111     -0.652083   \n",
       "PT08.S4(NO2)   0.639470     0.682881       0.777254  0.233731     -0.538468   \n",
       "PT08.S5(O3)    0.851403     0.899324       0.880578  0.787046     -0.796569   \n",
       "RH             0.040218     0.114606      -0.090380  0.221032     -0.056740   \n",
       "AH             0.065809     0.135324       0.186933 -0.149323     -0.232017   \n",
       "C6H6(GT)       0.845144     0.883795       0.981950  0.626638     -0.735744   \n",
       "\n",
       "                NO2(GT)  PT08.S4(NO2)  PT08.S5(O3)        RH        AH  \\\n",
       "CO(GT)         0.679262      0.639470     0.851403  0.040218  0.065809   \n",
       "PT08.S1(CO)    0.641529      0.682881     0.899324  0.114606  0.135324   \n",
       "PT08.S2(NMHC)  0.646245      0.777254     0.880578 -0.090380  0.186933   \n",
       "NOx(GT)        0.763111      0.233731     0.787046  0.221032 -0.149323   \n",
       "PT08.S3(NOx)  -0.652083     -0.538468    -0.796569 -0.056740 -0.232017   \n",
       "NO2(GT)        1.000000      0.157360     0.708128 -0.091759 -0.335022   \n",
       "PT08.S4(NO2)   0.157360      1.000000     0.591144 -0.032188  0.629641   \n",
       "PT08.S5(O3)    0.708128      0.591144     1.000000  0.124956  0.070751   \n",
       "RH            -0.091759     -0.032188     0.124956  1.000000  0.167971   \n",
       "AH            -0.335022      0.629641     0.070751  0.167971  1.000000   \n",
       "C6H6(GT)       0.544039      0.765731     0.865689 -0.061681  0.167972   \n",
       "\n",
       "               C6H6(GT)  \n",
       "CO(GT)         0.845144  \n",
       "PT08.S1(CO)    0.883795  \n",
       "PT08.S2(NMHC)  0.981950  \n",
       "NOx(GT)        0.626638  \n",
       "PT08.S3(NOx)  -0.735744  \n",
       "NO2(GT)        0.544039  \n",
       "PT08.S4(NO2)   0.765731  \n",
       "PT08.S5(O3)    0.865689  \n",
       "RH            -0.061681  \n",
       "AH             0.167972  \n",
       "C6H6(GT)       1.000000  "
      ]
     },
     "execution_count": 88,
     "metadata": {},
     "output_type": "execute_result"
    }
   ],
   "source": [
    "# Calculate correlations between variables\n",
    "corr_matrix = df.corr()#corr메서드는 각 열 간의 상관 계수를 반환\n",
    "corr_matrix"
   ]
  },
  {
   "cell_type": "code",
   "execution_count": 89,
   "metadata": {},
   "outputs": [],
   "source": [
    "# Choose the least correlated variable 산포도\n",
    "rh = df['RH'].copy().interpolate() # Relative Humidity"
   ]
  },
  {
   "cell_type": "code",
   "execution_count": 90,
   "metadata": {},
   "outputs": [
    {
     "data": {
      "text/plain": [
       "Text(0.5, 1.0, 'Detecting outliers using Boxplot')"
      ]
     },
     "execution_count": 90,
     "metadata": {},
     "output_type": "execute_result"
    },
    {
     "data": {
      "image/png": "[encoded data removed]",
      "text/plain": [
       "<Figure size 432x288 with 1 Axes>"
      ]
     },
     "metadata": {
      "needs_background": "light"
     },
     "output_type": "display_data"
    }
   ],
   "source": [
    "# Visualize a scatter plot(CO, RH)  산포도산포도\n",
    "plt.scatter(co, rh, s=12, c='black')\n",
    "plt.xlabel('PT08.S1(CO)')\n",
    "plt.ylabel('RH')\n",
    "plt.title(\"Detecting outliers using Boxplot\")"
   ]
  },
  {
   "cell_type": "code",
   "execution_count": 91,
   "metadata": {},
   "outputs": [],
   "source": [
    "# Choose the most correlated variable\n",
    "nmhc = df['PT08.S2(NMHC)'].copy().interpolate() # NMHC: Non-metanic Hydrocarbon 일산화탄소와 상간관관계가 있는 nhc 변수를 포함해주는 코드"
   ]
  },
  {
   "cell_type": "code",
   "execution_count": 92,
   "metadata": {},
   "outputs": [
    {
     "data": {
      "text/plain": [
       "Text(0, 0.5, 'NMHC')"
      ]
     },
     "execution_count": 92,
     "metadata": {},
     "output_type": "execute_result"
    },
    {
     "data": {
      "image/png": "[encoded data removed]",
      "text/plain": [
       "<Figure size 432x288 with 1 Axes>"
      ]
     },
     "metadata": {
      "needs_background": "light"
     },
     "output_type": "display_data"
    }
   ],
   "source": [
    "# Visualize a scatter plot(CO, NMHC)\n",
    "plt.scatter(co, nmhc, s=12, c='black')\n",
    "plt.xlabel('PT08.S1(CO)')\n",
    "plt.ylabel(\"NMHC\")"
   ]
  },
  {
   "cell_type": "code",
   "execution_count": 100,
   "metadata": {},
   "outputs": [
    {
     "name": "stdout",
     "output_type": "stream",
     "text": [
      "938.0 1067.0 1239.0\n"
     ]
    }
   ],
   "source": [
    "\"\"\"\n",
    "IQR-based Outlier Detection\n",
    "\"\"\"\n",
    "\n",
    "# Q1, Q2(median), Q3\n",
    "\n",
    "q1 = pt.quantile(0.25)\n",
    "median = pt.quantile(0.5)    #50 상위 50퍼\n",
    "q3 = pt.quantile(0.75)           # 상위 80퍼\n",
    "print(q1,median,q3)"
   ]
  },
  {
   "cell_type": "code",
   "execution_count": 101,
   "metadata": {},
   "outputs": [
    {
     "name": "stdout",
     "output_type": "stream",
     "text": [
      "301.0 1690.5 0\n"
     ]
    }
   ],
   "source": [
    "# IQR, upper_fence, lower_fence\n",
    "\n",
    "iqr = q3-q1\n",
    "upper_fence = q3 + 1.5*iqr\n",
    "lower_fence = q1 = 1.5*iqr\n",
    "print(iqr , upper_fence ,0)"
   ]
  },
  {
   "cell_type": "code",
   "execution_count": 125,
   "metadata": {},
   "outputs": [
    {
     "name": "stdout",
     "output_type": "stream",
     "text": [
      "Datetime\n",
      "2004-03-11 19:00:00    1776.0\n",
      "2004-03-12 20:00:00    1843.0\n",
      "2004-03-14 19:00:00    1808.0\n",
      "2004-03-14 20:00:00    1898.0\n",
      "2004-03-15 08:00:00    1797.0\n",
      "                        ...  \n",
      "2005-02-13 00:00:00    1712.0\n",
      "2005-02-13 01:00:00    1751.0\n",
      "2005-03-15 20:00:00    1710.0\n",
      "2005-03-24 19:00:00    1726.0\n",
      "2005-03-24 20:00:00    1818.0\n",
      "Name: PT08.S1(CO), Length: 103, dtype: float64\n"
     ]
    }
   ],
   "source": [
    "# Filtering the outliers\n",
    "outliers = pt.loc[(pt > upper_fence) | (pt < lower_fence)]\n",
    "print(outliers)"
   ]
  },
  {
   "cell_type": "code",
   "execution_count": 103,
   "metadata": {},
   "outputs": [
    {
     "data": {
      "text/plain": [
       "array([False, False, False, False, False, False, False, False, False,\n",
       "       False, False, False, False, False, False, False, False, False,\n",
       "       False, False, False, False, False, False, False,  True, False,\n",
       "       False, False, False, False, False, False, False, False, False,\n",
       "       False, False, False, False, False, False, False, False, False,\n",
       "       False, False, False, False, False])"
      ]
     },
     "execution_count": 103,
     "metadata": {},
     "output_type": "execute_result"
    }
   ],
   "source": [
    "# Mask for outliers # co는 모든 인덱스 아웃라이어즈는 이상치만\n",
    "mask = pt.index.isin(outliers.index) # isin(): DataFrame객체의 각 요소가 values값과 일치하는지 여부\n",
    "mask[:50]"
   ]
  },
  {
   "cell_type": "code",
   "execution_count": 104,
   "metadata": {},
   "outputs": [
    {
     "data": {
      "text/plain": [
       "Datetime\n",
       "2004-03-10 18:00:00    1360.0\n",
       "2004-03-10 19:00:00    1292.0\n",
       "2004-03-10 20:00:00    1402.0\n",
       "2004-03-10 21:00:00    1376.0\n",
       "2004-03-10 22:00:00    1272.0\n",
       "                        ...  \n",
       "2005-04-04 10:00:00    1314.0\n",
       "2005-04-04 11:00:00    1163.0\n",
       "2005-04-04 12:00:00    1142.0\n",
       "2005-04-04 13:00:00    1003.0\n",
       "2005-04-04 14:00:00    1071.0\n",
       "Name: PT08.S1(CO), Length: 9254, dtype: float64"
      ]
     },
     "execution_count": 104,
     "metadata": {},
     "output_type": "execute_result"
    }
   ],
   "source": [
    "pt[~mask]"
   ]
  },
  {
   "cell_type": "code",
   "execution_count": 105,
   "metadata": {},
   "outputs": [
    {
     "data": {
      "text/plain": [
       "<matplotlib.legend.Legend at 0x150d7961a90>"
      ]
     },
     "execution_count": 105,
     "metadata": {},
     "output_type": "execute_result"
    },
    {
     "data": {
      "image/png": "[encoded data removed]",
      "text/plain": [
       "<Figure size 432x288 with 1 Axes>"
      ]
     },
     "metadata": {
      "needs_background": "light"
     },
     "output_type": "display_data"
    }
   ],
   "source": [
    "# Visualize the normal data and outliers ~: not\n",
    "plt.plot(pt[~mask], label='normal', color='blue', marker='o', markersize=3, linestyle='None')\n",
    "plt.plot(outliers, label='outliers', color='red',marker='x', markersize=3, linestyle='None')\n",
    "plt.legend(loc='best')"
   ]
  },
  {
   "cell_type": "code",
   "execution_count": null,
   "metadata": {},
   "outputs": [],
   "source": []
  },
  {
   "cell_type": "code",
   "execution_count": 106,
   "metadata": {},
   "outputs": [
    {
     "name": "stdout",
     "output_type": "stream",
     "text": [
      "Datetime\n",
      "2004-03-11 19:00:00   NaN\n",
      "2004-03-12 20:00:00   NaN\n",
      "2004-03-14 19:00:00   NaN\n",
      "2004-03-14 20:00:00   NaN\n",
      "2004-03-15 08:00:00   NaN\n",
      "                       ..\n",
      "2005-02-13 00:00:00   NaN\n",
      "2005-02-13 01:00:00   NaN\n",
      "2005-03-15 20:00:00   NaN\n",
      "2005-03-24 19:00:00   NaN\n",
      "2005-03-24 20:00:00   NaN\n",
      "Name: PT08.S1(CO), Length: 103, dtype: float64\n"
     ]
    }
   ],
   "source": [
    "# Removing the outliers  이상치 삭제\n",
    "pt_refined = pt.copy()\n",
    "pt_refined[mask] = np.nan #특정 값 nan으로\n",
    "print(pt_refined[mask])"
   ]
  },
  {
   "cell_type": "code",
   "execution_count": 107,
   "metadata": {},
   "outputs": [
    {
     "data": {
      "text/plain": [
       "<AxesSubplot:xlabel='Datetime'>"
      ]
     },
     "execution_count": 107,
     "metadata": {},
     "output_type": "execute_result"
    },
    {
     "data": {
      "image/png": "[encoded data removed]",
      "text/plain": [
       "<Figure size 432x288 with 1 Axes>"
      ]
     },
     "metadata": {
      "needs_background": "light"
     },
     "output_type": "display_data"
    }
   ],
   "source": [
    "# Linear interpolation for reconstructing outliers removed.\n",
    "pt_refined.interpolate(inplace=True)#결측치보간법\n",
    "pt_refined.plot() "
   ]
  },
  {
   "cell_type": "code",
   "execution_count": 108,
   "metadata": {},
   "outputs": [
    {
     "name": "stdout",
     "output_type": "stream",
     "text": [
      "Requirement already satisfied: seaborn in c:\\users\\mycin\\anaconda3\\lib\\site-packages (0.11.2)\n",
      "Requirement already satisfied: numpy>=1.15 in c:\\users\\mycin\\anaconda3\\lib\\site-packages (from seaborn) (1.21.5)\n",
      "Requirement already satisfied: matplotlib>=2.2 in c:\\users\\mycin\\anaconda3\\lib\\site-packages (from seaborn) (3.5.1)\n",
      "Requirement already satisfied: scipy>=1.0 in c:\\users\\mycin\\anaconda3\\lib\\site-packages (from seaborn) (1.7.3)\n",
      "Requirement already satisfied: pandas>=0.23 in c:\\users\\mycin\\anaconda3\\lib\\site-packages (from seaborn) (1.4.2)\n",
      "Requirement already satisfied: fonttools>=4.22.0 in c:\\users\\mycin\\anaconda3\\lib\\site-packages (from matplotlib>=2.2->seaborn) (4.25.0)\n",
      "Requirement already satisfied: packaging>=20.0 in c:\\users\\mycin\\anaconda3\\lib\\site-packages (from matplotlib>=2.2->seaborn) (21.3)\n",
      "Requirement already satisfied: kiwisolver>=1.0.1 in c:\\users\\mycin\\anaconda3\\lib\\site-packages (from matplotlib>=2.2->seaborn) (1.3.2)\n",
      "Requirement already satisfied: pyparsing>=2.2.1 in c:\\users\\mycin\\anaconda3\\lib\\site-packages (from matplotlib>=2.2->seaborn) (3.0.4)\n",
      "Requirement already satisfied: cycler>=0.10 in c:\\users\\mycin\\anaconda3\\lib\\site-packages (from matplotlib>=2.2->seaborn) (0.11.0)\n",
      "Requirement already satisfied: pillow>=6.2.0 in c:\\users\\mycin\\anaconda3\\lib\\site-packages (from matplotlib>=2.2->seaborn) (9.0.1)\n",
      "Requirement already satisfied: python-dateutil>=2.7 in c:\\users\\mycin\\anaconda3\\lib\\site-packages (from matplotlib>=2.2->seaborn) (2.8.2)\n",
      "Requirement already satisfied: pytz>=2020.1 in c:\\users\\mycin\\anaconda3\\lib\\site-packages (from pandas>=0.23->seaborn) (2021.3)\n",
      "Requirement already satisfied: six>=1.5 in c:\\users\\mycin\\anaconda3\\lib\\site-packages (from python-dateutil>=2.7->matplotlib>=2.2->seaborn) (1.16.0)\n",
      "Note: you may need to restart the kernel to use updated packages.\n"
     ]
    }
   ],
   "source": [
    "pip install seaborn"
   ]
  },
  {
   "cell_type": "code",
   "execution_count": 109,
   "metadata": {},
   "outputs": [
    {
     "name": "stderr",
     "output_type": "stream",
     "text": [
      "C:\\Users\\mycin\\anaconda3\\lib\\site-packages\\seaborn\\distributions.py:2619: FutureWarning: `distplot` is a deprecated function and will be removed in a future version. Please adapt your code to use either `displot` (a figure-level function with similar flexibility) or `histplot` (an axes-level function for histograms).\n",
      "  warnings.warn(msg, FutureWarning)\n"
     ]
    },
    {
     "data": {
      "text/plain": [
       "<AxesSubplot:xlabel='PT08.S1(CO)', ylabel='Density'>"
      ]
     },
     "execution_count": 109,
     "metadata": {},
     "output_type": "execute_result"
    },
    {
     "data": {
      "image/png": "[encoded data removed]",
      "text/plain": [
       "<Figure size 432x288 with 1 Axes>"
      ]
     },
     "metadata": {
      "needs_background": "light"
     },
     "output_type": "display_data"
    }
   ],
   "source": [
    "\"\"\"\n",
    "Detecting Outliers with Z-Scores\n",
    "정규분포에서 특정 거리만큼 떨어진거\n",
    "\"\"\"\n",
    "\n",
    "# Visualize the distribution of the 'CO(GT)' variable\n",
    "import seaborn as sns\n",
    "\n",
    "sns.distplot(pt)"
   ]
  },
  {
   "cell_type": "code",
   "execution_count": 110,
   "metadata": {},
   "outputs": [
    {
     "name": "stdout",
     "output_type": "stream",
     "text": [
      "1103.0597413700973 218.18468624740942\n"
     ]
    }
   ],
   "source": [
    "# Mean, Standard deviation\n",
    "mean = np.mean(pt)\n",
    "std = np.std(pt)\n",
    "print(mean , std)\n",
    "\n",
    "\n"
   ]
  },
  {
   "cell_type": "code",
   "execution_count": 111,
   "metadata": {},
   "outputs": [
    {
     "name": "stdout",
     "output_type": "stream",
     "text": [
      "1103 218\n"
     ]
    }
   ],
   "source": [
    "a =round(mean)\n",
    "b = round(std)\n",
    "print(a,b)"
   ]
  },
  {
   "cell_type": "code",
   "execution_count": 112,
   "metadata": {
    "scrolled": true
   },
   "outputs": [
    {
     "name": "stdout",
     "output_type": "stream",
     "text": [
      "3.084268975077497\n",
      "3.391348271761159\n",
      "3.230933713792082\n",
      "3.643428291426852\n",
      "3.180517709858943\n",
      "3.9321744957711915\n",
      "3.061352609653343\n",
      "3.730510480038637\n",
      "4.2942530694728225\n",
      "3.6296784721723596\n",
      "3.1942675291134357\n",
      "3.432597729524636\n",
      "3.9871737727891605\n",
      "3.996340318958822\n",
      "3.1713511636892817\n",
      "3.80842612248076\n",
      "3.2813497177252207\n",
      "3.0338529711443583\n",
      "3.538013010475744\n",
      "3.061352609653343\n",
      "3.0155198788050352\n",
      "3.0246864249746968\n",
      "3.0934355212471587\n",
      "3.377598452506667\n",
      "3.579262468239221\n",
      "3.354682087082513\n",
      "3.0063533326353737\n",
      "3.230933713792082\n",
      "3.267599898470728\n",
      "3.3042660831493746\n",
      "3.2950995369797127\n",
      "3.68926102227516\n",
      "3.0934355212471587\n",
      "3.7213439338689756\n",
      "3.5700959220695596\n",
      "3.51509664505159\n",
      "3.0751024289078353\n",
      "3.203434075283097\n",
      "3.0384362442291892\n",
      "3.0521860634836817\n",
      "3.290516263894882\n",
      "4.0284232305526375\n",
      "4.1475883307582375\n",
      "3.7350937531234676\n",
      "3.2950995369797127\n",
      "3.9092581303470375\n",
      "3.350098813997682\n",
      "3.0063533326353737\n",
      "3.267599898470728\n",
      "3.565512648984729\n",
      "3.354682087082513\n",
      "3.2126006214527587\n",
      "3.0384362442291892\n",
      "3.4050980910156516\n",
      "3.1713511636892817\n",
      "3.2767664446403897\n"
     ]
    }
   ],
   "source": [
    "# Calculate Z-scores for each data points\n",
    "outliers = []\n",
    "thres = 3\n",
    "\n",
    "for i in pt:\n",
    "    z_score = (i-mean) / std\n",
    "    if(np.abs(z_score) > thres):\n",
    "        print(z_score)\n",
    "        outliers.append(i)"
   ]
  },
  {
   "cell_type": "code",
   "execution_count": 114,
   "metadata": {},
   "outputs": [
    {
     "name": "stdout",
     "output_type": "stream",
     "text": [
      "Datetime\n",
      "2004-03-11 19:00:00    1776.0\n",
      "2004-03-12 20:00:00    1843.0\n",
      "2004-03-14 19:00:00    1808.0\n",
      "2004-03-14 20:00:00    1898.0\n",
      "2004-03-15 08:00:00    1797.0\n",
      "2004-03-15 09:00:00    1961.0\n",
      "2004-03-15 10:00:00    1771.0\n",
      "2004-03-15 18:00:00    1917.0\n",
      "2004-03-15 19:00:00    2040.0\n",
      "2004-03-15 20:00:00    1895.0\n",
      "2004-03-16 21:00:00    1800.0\n",
      "2004-03-17 09:00:00    1852.0\n",
      "2004-03-17 19:00:00    1973.0\n",
      "2004-03-17 20:00:00    1975.0\n",
      "2004-03-17 21:00:00    1795.0\n",
      "2004-03-18 09:00:00    1934.0\n",
      "2004-03-19 09:00:00    1819.0\n",
      "2004-04-15 18:00:00    1765.0\n",
      "2004-04-15 19:00:00    1875.0\n",
      "2004-04-29 08:00:00    1771.0\n",
      "2004-04-29 19:00:00    1761.0\n",
      "2004-05-20 08:00:00    1763.0\n",
      "2004-10-05 19:00:00    1778.0\n",
      "2004-10-06 19:00:00    1840.0\n",
      "2004-10-20 17:00:00    1884.0\n",
      "2004-10-20 18:00:00    1835.0\n",
      "2004-10-20 19:00:00    1759.0\n",
      "2004-10-22 18:00:00    1808.0\n",
      "2004-10-25 17:00:00    1816.0\n",
      "2004-10-25 18:00:00    1824.0\n",
      "2004-10-26 17:00:00    1822.0\n",
      "2004-10-26 18:00:00    1908.0\n",
      "2004-11-02 20:00:00    1778.0\n",
      "2004-11-04 17:00:00    1915.0\n",
      "2004-11-04 18:00:00    1882.0\n",
      "2004-11-05 17:00:00    1870.0\n",
      "2004-11-05 18:00:00    1774.0\n",
      "2004-11-17 18:00:00    1802.0\n",
      "2004-11-22 19:00:00    1766.0\n",
      "2004-11-23 14:00:00    1769.0\n",
      "2004-11-23 17:00:00    1821.0\n",
      "2004-11-23 18:00:00    1982.0\n",
      "2004-11-23 19:00:00    2008.0\n",
      "2004-11-23 20:00:00    1918.0\n",
      "2004-11-26 17:00:00    1822.0\n",
      "2004-11-26 18:00:00    1956.0\n",
      "2004-11-26 20:00:00    1834.0\n",
      "2004-11-26 21:00:00    1759.0\n",
      "2004-12-02 19:00:00    1816.0\n",
      "2004-12-13 18:00:00    1881.0\n",
      "2005-01-21 20:00:00    1835.0\n",
      "2005-01-21 21:00:00    1804.0\n",
      "2005-02-12 19:00:00    1766.0\n",
      "2005-02-12 20:00:00    1846.0\n",
      "2005-02-12 21:00:00    1795.0\n",
      "2005-03-24 20:00:00    1818.0\n",
      "Name: PT08.S1(CO), dtype: float64\n"
     ]
    }
   ],
   "source": [
    "# Simplified version of filtering outliers\n",
    "outliers = pt.loc[np.abs((pt - mean) / std) > 3]\n",
    "print(outliers)"
   ]
  },
  {
   "cell_type": "code",
   "execution_count": 116,
   "metadata": {},
   "outputs": [
    {
     "data": {
      "text/plain": [
       "array([False, False, False, False, False, False, False, False, False,\n",
       "       False, False, False, False, False, False, False, False, False,\n",
       "       False, False, False, False, False, False, False,  True, False,\n",
       "       False, False, False, False, False, False, False, False, False,\n",
       "       False, False, False, False, False, False, False, False, False,\n",
       "       False, False, False, False, False])"
      ]
     },
     "execution_count": 116,
     "metadata": {},
     "output_type": "execute_result"
    }
   ],
   "source": [
    "# Mask for outliers\n",
    "mask = pt.index.isin(outliers.index)\n",
    "mask[:50]"
   ]
  },
  {
   "cell_type": "code",
   "execution_count": 122,
   "metadata": {},
   "outputs": [
    {
     "name": "stderr",
     "output_type": "stream",
     "text": [
      "C:\\Users\\mycin\\anaconda3\\lib\\site-packages\\seaborn\\distributions.py:2619: FutureWarning: `distplot` is a deprecated function and will be removed in a future version. Please adapt your code to use either `displot` (a figure-level function with similar flexibility) or `histplot` (an axes-level function for histograms).\n",
      "  warnings.warn(msg, FutureWarning)\n",
      "C:\\Users\\mycin\\anaconda3\\lib\\site-packages\\seaborn\\distributions.py:2619: FutureWarning: `distplot` is a deprecated function and will be removed in a future version. Please adapt your code to use either `displot` (a figure-level function with similar flexibility) or `histplot` (an axes-level function for histograms).\n",
      "  warnings.warn(msg, FutureWarning)\n"
     ]
    },
    {
     "data": {
      "text/plain": [
       "<matplotlib.legend.Legend at 0x150d8f49d60>"
      ]
     },
     "execution_count": 122,
     "metadata": {},
     "output_type": "execute_result"
    },
    {
     "data": {
      "image/png": "[encoded data removed]",
      "text/plain": [
       "<Figure size 432x288 with 1 Axes>"
      ]
     },
     "metadata": {
      "needs_background": "light"
     },
     "output_type": "display_data"
    }
   ],
   "source": [
    "# Comparison of distributions before/after outlier removal\n",
    "sns.distplot(pt, axlabel='PT08.S1(CO)', label='original')\n",
    "sns.distplot(pt[~mask], label='outliers removed')\n",
    "plt.legend(loc='best')\n",
    "\n",
    "# [exer] Adjust thres"
   ]
  },
  {
   "cell_type": "code",
   "execution_count": 123,
   "metadata": {},
   "outputs": [
    {
     "data": {
      "text/plain": [
       "Datetime\n",
       "2004-03-11 18:00:00    1581.0\n",
       "2004-03-11 19:00:00    1776.0\n",
       "2004-03-11 20:00:00    1640.0\n",
       "2004-03-12 08:00:00    1587.0\n",
       "2004-03-12 09:00:00    1545.0\n",
       "                        ...  \n",
       "2005-03-25 20:00:00    1605.0\n",
       "2005-03-25 21:00:00    1460.0\n",
       "2005-03-29 08:00:00    1519.0\n",
       "2005-03-31 07:00:00    1531.0\n",
       "2005-04-04 08:00:00    1446.0\n",
       "Name: PT08.S1(CO), Length: 936, dtype: float64"
      ]
     },
     "execution_count": 123,
     "metadata": {},
     "output_type": "execute_result"
    }
   ],
   "source": [
    "# Flooring and Capping\n",
    "floor = pt.quantile(0.1)# 상위 10퍼\n",
    "cap = pt.quantile(0.9) # 하위 10퍼\n",
    "pt.loc[pt < floor]\n",
    "pt.loc[pt >cap] \n"
   ]
  },
  {
   "cell_type": "code",
   "execution_count": 124,
   "metadata": {},
   "outputs": [
    {
     "data": {
      "text/plain": [
       "{'whiskers': [<matplotlib.lines.Line2D at 0x150db85e9a0>,\n",
       "  <matplotlib.lines.Line2D at 0x150db85ec70>],\n",
       " 'caps': [<matplotlib.lines.Line2D at 0x150db85ef40>,\n",
       "  <matplotlib.lines.Line2D at 0x150db86d250>],\n",
       " 'boxes': [<matplotlib.lines.Line2D at 0x150db852550>],\n",
       " 'medians': [<matplotlib.lines.Line2D at 0x150db86d520>],\n",
       " 'fliers': [<matplotlib.lines.Line2D at 0x150db86d7f0>],\n",
       " 'means': []}"
      ]
     },
     "execution_count": 124,
     "metadata": {},
     "output_type": "execute_result"
    },
    {
     "data": {
      "image/png": "[encoded data removed]",
      "text/plain": [
       "<Figure size 432x288 with 1 Axes>"
      ]
     },
     "metadata": {
      "needs_background": "light"
     },
     "output_type": "display_data"
    }
   ],
   "source": [
    "plt.boxplot(pt)"
   ]
  },
  {
   "cell_type": "code",
   "execution_count": null,
   "metadata": {},
   "outputs": [],
   "source": []
  },
  {
   "cell_type": "code",
   "execution_count": null,
   "metadata": {},
   "outputs": [],
   "source": []
  },
  {
   "cell_type": "code",
   "execution_count": null,
   "metadata": {},
   "outputs": [],
   "source": []
  },
  {
   "cell_type": "code",
   "execution_count": null,
   "metadata": {},
   "outputs": [],
   "source": []
  }
 ],
 "metadata": {
  "kernelspec": {
   "display_name": "Python 3 (ipykernel)",
   "language": "python",
   "name": "python3"
  },
  "language_info": {
   "codemirror_mode": {
    "name": "ipython",
    "version": 3
   },
   "file_extension": ".py",
   "mimetype": "text/x-python",
   "name": "python",
   "nbconvert_exporter": "python",
   "pygments_lexer": "ipython3",
   "version": "3.9.12"
  }
 },
 "nbformat": 4,
 "nbformat_minor": 4
}
